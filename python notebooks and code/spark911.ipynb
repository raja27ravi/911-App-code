{
 "cells": [
  {
   "cell_type": "code",
   "execution_count": 1,
   "metadata": {},
   "outputs": [],
   "source": [
    "from pyspark.sql import SparkSession"
   ]
  },
  {
   "cell_type": "code",
   "execution_count": 2,
   "metadata": {},
   "outputs": [],
   "source": [
    "# May take a little while on a local computer\n",
    "spark = SparkSession.builder.appName(\"Basics\").getOrCreate()"
   ]
  },
  {
   "cell_type": "code",
   "execution_count": null,
   "metadata": {},
   "outputs": [],
   "source": []
  },
  {
   "cell_type": "code",
   "execution_count": 3,
   "metadata": {},
   "outputs": [],
   "source": [
    "df =spark.read.csv(\"C:/Users/Sri/Desktop/911_project/DATASET/911_nan_zip_dataset.csv\",inferSchema=True,header=True)"
   ]
  },
  {
   "cell_type": "code",
   "execution_count": 4,
   "metadata": {},
   "outputs": [
    {
     "name": "stdout",
     "output_type": "stream",
     "text": [
      "+----------+-----------+-----+--------+--------------------+----------------+-----------------+\n",
      "|       lat|        lng|  zip|Category|               Title|       timeStamp|              twp|\n",
      "+----------+-----------+-----+--------+--------------------+----------------+-----------------+\n",
      "|40.2978759|-75.5812935|19525|     EMS|   BACK PAINS/INJURY|2015-12-10 17:40|      NEW HANOVER|\n",
      "|40.2580614|-75.2646799|19446|     EMS|  DIABETIC EMERGENCY|2015-12-10 17:40|HATFIELD TOWNSHIP|\n",
      "|40.1211818|-75.3519752|19401|    Fire|       GAS-ODOR/LEAK|2015-12-10 17:40|       NORRISTOWN|\n",
      "| 40.116153| -75.343513|19401|     EMS|   CARDIAC EMERGENCY|2015-12-10 17:40|       NORRISTOWN|\n",
      "| 40.251492|-75.6033497|19464|     EMS|           DIZZINESS|2015-12-10 17:40| LOWER POTTSGROVE|\n",
      "|40.2534732| -75.283245|19446|     EMS|         HEAD INJURY|2015-12-10 17:40|         LANSDALE|\n",
      "|40.1821111|-75.1277951|19044|     EMS|     NAUSEA/VOMITING|2015-12-10 17:40|          HORSHAM|\n",
      "|40.2172859| -75.405182|19426|     EMS| RESPIRATORY EMER...|2015-12-10 17:40|         SKIPPACK|\n",
      "|40.2890267|-75.3995896|19438|     EMS|    SYNCOPAL EPISODE|2015-12-10 17:40|    LOWER SALFORD|\n",
      "|40.1023985|-75.2914577|19462| Traffic|  VEHICLE ACCIDENT -|2015-12-10 17:40|         PLYMOUTH|\n",
      "|40.2319898|-75.2518915|19002| Traffic|  VEHICLE ACCIDENT -|2015-12-10 17:40|       MONTGOMERY|\n",
      "|40.0841613|-75.3083857|19428| Traffic|  VEHICLE ACCIDENT -|2015-12-10 17:40|         PLYMOUTH|\n",
      "|40.1741312|-75.0984907|19040| Traffic|  VEHICLE ACCIDENT -|2015-12-10 17:40|   UPPER MORELAND|\n",
      "| 40.062974| -75.135914|19027| Traffic|  VEHICLE ACCIDENT -|2015-12-10 17:40|       CHELTENHAM|\n",
      "|40.0972222|-75.3761952|19406| Traffic|  VEHICLE ACCIDENT -|2015-12-10 17:40|     UPPER MERION|\n",
      "|40.2237777|-75.2353993|18936| Traffic|  VEHICLE ACCIDENT -|2015-12-10 17:40|       MONTGOMERY|\n",
      "|40.2432578|-75.2865516|19446|     EMS| RESPIRATORY EMER...|2015-12-10 17:46|         LANSDALE|\n",
      "|40.3121807|-75.5742598|19525|     EMS|           DIZZINESS|2015-12-10 17:47|      NEW HANOVER|\n",
      "| 40.114239| -75.338508|19401|     EMS|    VEHICLE ACCIDENT|2015-12-10 17:47|       NORRISTOWN|\n",
      "|40.2093369|-75.1352655|18974| Traffic|  DISABLED VEHICLE -|2015-12-10 17:47|          HORSHAM|\n",
      "+----------+-----------+-----+--------+--------------------+----------------+-----------------+\n",
      "only showing top 20 rows\n",
      "\n"
     ]
    }
   ],
   "source": [
    "df.show()"
   ]
  },
  {
   "cell_type": "code",
   "execution_count": null,
   "metadata": {},
   "outputs": [],
   "source": []
  },
  {
   "cell_type": "code",
   "execution_count": 5,
   "metadata": {},
   "outputs": [
    {
     "name": "stdout",
     "output_type": "stream",
     "text": [
      "root\n",
      " |-- lat: double (nullable = true)\n",
      " |-- lng: double (nullable = true)\n",
      " |-- zip: string (nullable = true)\n",
      " |-- Category: string (nullable = true)\n",
      " |-- Title: string (nullable = true)\n",
      " |-- timeStamp: string (nullable = true)\n",
      " |-- twp: string (nullable = true)\n",
      "\n"
     ]
    }
   ],
   "source": [
    "df.printSchema()"
   ]
  },
  {
   "cell_type": "code",
   "execution_count": null,
   "metadata": {},
   "outputs": [],
   "source": []
  },
  {
   "cell_type": "code",
   "execution_count": 6,
   "metadata": {},
   "outputs": [],
   "source": [
    "from pyspark.sql.types import StructField,StringType,IntegerType,StructType,FloatType"
   ]
  },
  {
   "cell_type": "code",
   "execution_count": null,
   "metadata": {},
   "outputs": [],
   "source": []
  },
  {
   "cell_type": "code",
   "execution_count": 7,
   "metadata": {},
   "outputs": [],
   "source": [
    "data_schema = [StructField(\"lat\", FloatType(), True),StructField(\"lng\", FloatType(), True),StructField(\"zip\", IntegerType(), True),StructField(\"Category\", StringType(), True),StructField(\"Title\", StringType(), True),StructField(\"timeStamp\", StringType(), True),StructField(\"twp\", StringType(), True)]"
   ]
  },
  {
   "cell_type": "code",
   "execution_count": null,
   "metadata": {},
   "outputs": [],
   "source": []
  },
  {
   "cell_type": "code",
   "execution_count": 8,
   "metadata": {},
   "outputs": [],
   "source": [
    "final_struc = StructType(fields=data_schema)"
   ]
  },
  {
   "cell_type": "code",
   "execution_count": null,
   "metadata": {},
   "outputs": [],
   "source": []
  },
  {
   "cell_type": "code",
   "execution_count": 9,
   "metadata": {},
   "outputs": [],
   "source": [
    "df.createOrReplaceTempView(\"data_911\")"
   ]
  },
  {
   "cell_type": "code",
   "execution_count": 10,
   "metadata": {},
   "outputs": [],
   "source": [
    "df.createOrReplaceTempView(\"data_for_pred\")"
   ]
  },
  {
   "cell_type": "code",
   "execution_count": null,
   "metadata": {},
   "outputs": [],
   "source": []
  },
  {
   "cell_type": "code",
   "execution_count": null,
   "metadata": {},
   "outputs": [],
   "source": []
  },
  {
   "cell_type": "code",
   "execution_count": null,
   "metadata": {},
   "outputs": [],
   "source": []
  },
  {
   "cell_type": "code",
   "execution_count": 11,
   "metadata": {},
   "outputs": [
    {
     "name": "stdout",
     "output_type": "stream",
     "text": [
      "+----------+-----------+-----+--------+----------------------+----------------+-----------------+\n",
      "|lat       |lng        |zip  |Category|Title                 |timeStamp       |twp              |\n",
      "+----------+-----------+-----+--------+----------------------+----------------+-----------------+\n",
      "|40.2978759|-75.5812935|19525|EMS     | BACK PAINS/INJURY    |2015-12-10 17:40|NEW HANOVER      |\n",
      "|40.2580614|-75.2646799|19446|EMS     | DIABETIC EMERGENCY   |2015-12-10 17:40|HATFIELD TOWNSHIP|\n",
      "|40.1211818|-75.3519752|19401|Fire    | GAS-ODOR/LEAK        |2015-12-10 17:40|NORRISTOWN       |\n",
      "|40.116153 |-75.343513 |19401|EMS     | CARDIAC EMERGENCY    |2015-12-10 17:40|NORRISTOWN       |\n",
      "|40.251492 |-75.6033497|19464|EMS     | DIZZINESS            |2015-12-10 17:40|LOWER POTTSGROVE |\n",
      "|40.2534732|-75.283245 |19446|EMS     | HEAD INJURY          |2015-12-10 17:40|LANSDALE         |\n",
      "|40.1821111|-75.1277951|19044|EMS     | NAUSEA/VOMITING      |2015-12-10 17:40|HORSHAM          |\n",
      "|40.2172859|-75.405182 |19426|EMS     | RESPIRATORY EMERGENCY|2015-12-10 17:40|SKIPPACK         |\n",
      "|40.2890267|-75.3995896|19438|EMS     | SYNCOPAL EPISODE     |2015-12-10 17:40|LOWER SALFORD    |\n",
      "|40.1023985|-75.2914577|19462|Traffic | VEHICLE ACCIDENT -   |2015-12-10 17:40|PLYMOUTH         |\n",
      "|40.2319898|-75.2518915|19002|Traffic | VEHICLE ACCIDENT -   |2015-12-10 17:40|MONTGOMERY       |\n",
      "|40.0841613|-75.3083857|19428|Traffic | VEHICLE ACCIDENT -   |2015-12-10 17:40|PLYMOUTH         |\n",
      "|40.1741312|-75.0984907|19040|Traffic | VEHICLE ACCIDENT -   |2015-12-10 17:40|UPPER MORELAND   |\n",
      "|40.062974 |-75.135914 |19027|Traffic | VEHICLE ACCIDENT -   |2015-12-10 17:40|CHELTENHAM       |\n",
      "|40.0972222|-75.3761952|19406|Traffic | VEHICLE ACCIDENT -   |2015-12-10 17:40|UPPER MERION     |\n",
      "|40.2237777|-75.2353993|18936|Traffic | VEHICLE ACCIDENT -   |2015-12-10 17:40|MONTGOMERY       |\n",
      "|40.2432578|-75.2865516|19446|EMS     | RESPIRATORY EMERGENCY|2015-12-10 17:46|LANSDALE         |\n",
      "|40.3121807|-75.5742598|19525|EMS     | DIZZINESS            |2015-12-10 17:47|NEW HANOVER      |\n",
      "|40.114239 |-75.338508 |19401|EMS     | VEHICLE ACCIDENT     |2015-12-10 17:47|NORRISTOWN       |\n",
      "|40.2093369|-75.1352655|18974|Traffic | DISABLED VEHICLE -   |2015-12-10 17:47|HORSHAM          |\n",
      "+----------+-----------+-----+--------+----------------------+----------------+-----------------+\n",
      "only showing top 20 rows\n",
      "\n"
     ]
    }
   ],
   "source": [
    "sql_results = spark.sql(\"SELECT * FROM data_for_pred\")\n",
    "sql_results.show(20,False)"
   ]
  },
  {
   "cell_type": "code",
   "execution_count": null,
   "metadata": {},
   "outputs": [],
   "source": []
  },
  {
   "cell_type": "code",
   "execution_count": null,
   "metadata": {},
   "outputs": [],
   "source": []
  },
  {
   "cell_type": "code",
   "execution_count": null,
   "metadata": {},
   "outputs": [],
   "source": []
  },
  {
   "cell_type": "code",
   "execution_count": null,
   "metadata": {},
   "outputs": [],
   "source": []
  },
  {
   "cell_type": "code",
   "execution_count": 12,
   "metadata": {},
   "outputs": [
    {
     "name": "stdout",
     "output_type": "stream",
     "text": [
      "+----------+-----------+-----+--------+----------------------+----------------+-----------------+\n",
      "|lat       |lng        |zip  |Category|Title                 |timeStamp       |twp              |\n",
      "+----------+-----------+-----+--------+----------------------+----------------+-----------------+\n",
      "|40.2978759|-75.5812935|19525|EMS     | BACK PAINS/INJURY    |2015-12-10 17:40|NEW HANOVER      |\n",
      "|40.2580614|-75.2646799|19446|EMS     | DIABETIC EMERGENCY   |2015-12-10 17:40|HATFIELD TOWNSHIP|\n",
      "|40.1211818|-75.3519752|19401|Fire    | GAS-ODOR/LEAK        |2015-12-10 17:40|NORRISTOWN       |\n",
      "|40.116153 |-75.343513 |19401|EMS     | CARDIAC EMERGENCY    |2015-12-10 17:40|NORRISTOWN       |\n",
      "|40.251492 |-75.6033497|19464|EMS     | DIZZINESS            |2015-12-10 17:40|LOWER POTTSGROVE |\n",
      "|40.2534732|-75.283245 |19446|EMS     | HEAD INJURY          |2015-12-10 17:40|LANSDALE         |\n",
      "|40.1821111|-75.1277951|19044|EMS     | NAUSEA/VOMITING      |2015-12-10 17:40|HORSHAM          |\n",
      "|40.2172859|-75.405182 |19426|EMS     | RESPIRATORY EMERGENCY|2015-12-10 17:40|SKIPPACK         |\n",
      "|40.2890267|-75.3995896|19438|EMS     | SYNCOPAL EPISODE     |2015-12-10 17:40|LOWER SALFORD    |\n",
      "|40.1023985|-75.2914577|19462|Traffic | VEHICLE ACCIDENT -   |2015-12-10 17:40|PLYMOUTH         |\n",
      "|40.2319898|-75.2518915|19002|Traffic | VEHICLE ACCIDENT -   |2015-12-10 17:40|MONTGOMERY       |\n",
      "|40.0841613|-75.3083857|19428|Traffic | VEHICLE ACCIDENT -   |2015-12-10 17:40|PLYMOUTH         |\n",
      "|40.1741312|-75.0984907|19040|Traffic | VEHICLE ACCIDENT -   |2015-12-10 17:40|UPPER MORELAND   |\n",
      "|40.062974 |-75.135914 |19027|Traffic | VEHICLE ACCIDENT -   |2015-12-10 17:40|CHELTENHAM       |\n",
      "|40.0972222|-75.3761952|19406|Traffic | VEHICLE ACCIDENT -   |2015-12-10 17:40|UPPER MERION     |\n",
      "|40.2237777|-75.2353993|18936|Traffic | VEHICLE ACCIDENT -   |2015-12-10 17:40|MONTGOMERY       |\n",
      "|40.2432578|-75.2865516|19446|EMS     | RESPIRATORY EMERGENCY|2015-12-10 17:46|LANSDALE         |\n",
      "|40.3121807|-75.5742598|19525|EMS     | DIZZINESS            |2015-12-10 17:47|NEW HANOVER      |\n",
      "|40.114239 |-75.338508 |19401|EMS     | VEHICLE ACCIDENT     |2015-12-10 17:47|NORRISTOWN       |\n",
      "|40.2093369|-75.1352655|18974|Traffic | DISABLED VEHICLE -   |2015-12-10 17:47|HORSHAM          |\n",
      "+----------+-----------+-----+--------+----------------------+----------------+-----------------+\n",
      "only showing top 20 rows\n",
      "\n"
     ]
    }
   ],
   "source": [
    "sql_results = spark.sql(\"SELECT * FROM data_911\")\n",
    "sql_results.show(20,False)"
   ]
  },
  {
   "cell_type": "code",
   "execution_count": null,
   "metadata": {},
   "outputs": [],
   "source": []
  },
  {
   "cell_type": "code",
   "execution_count": null,
   "metadata": {},
   "outputs": [],
   "source": []
  },
  {
   "cell_type": "code",
   "execution_count": null,
   "metadata": {},
   "outputs": [],
   "source": []
  },
  {
   "cell_type": "code",
   "execution_count": null,
   "metadata": {},
   "outputs": [],
   "source": []
  },
  {
   "cell_type": "code",
   "execution_count": 13,
   "metadata": {},
   "outputs": [
    {
     "name": "stdout",
     "output_type": "stream",
     "text": [
      "+-----------------+----+\n",
      "|               c1|  c2|\n",
      "+-----------------+----+\n",
      "|     LOWER MERION|8443|\n",
      "|         ABINGTON|5977|\n",
      "|       NORRISTOWN|5890|\n",
      "|     UPPER MERION|5227|\n",
      "|       CHELTENHAM|4575|\n",
      "|        POTTSTOWN|4146|\n",
      "|   UPPER MORELAND|3434|\n",
      "| LOWER PROVIDENCE|3225|\n",
      "|         PLYMOUTH|3158|\n",
      "|          HORSHAM|3003|\n",
      "|       MONTGOMERY|2698|\n",
      "|     UPPER DUBLIN|2638|\n",
      "|       WHITEMARSH|2526|\n",
      "| UPPER PROVIDENCE|2313|\n",
      "|         LIMERICK|2272|\n",
      "|      SPRINGFIELD|2202|\n",
      "|         WHITPAIN|2135|\n",
      "|    EAST NORRITON|2038|\n",
      "|         LANSDALE|1743|\n",
      "|HATFIELD TOWNSHIP|1732|\n",
      "+-----------------+----+\n",
      "only showing top 20 rows\n",
      "\n"
     ]
    }
   ],
   "source": [
    "sql_results = spark.sql(\"select twp as c1,count(*) as c2 from data_911 group by  twp order by c2 desc\")\n",
    "sql_results.show()"
   ]
  },
  {
   "cell_type": "code",
   "execution_count": null,
   "metadata": {},
   "outputs": [],
   "source": []
  },
  {
   "cell_type": "code",
   "execution_count": null,
   "metadata": {},
   "outputs": [],
   "source": []
  },
  {
   "cell_type": "code",
   "execution_count": null,
   "metadata": {},
   "outputs": [],
   "source": []
  },
  {
   "cell_type": "code",
   "execution_count": 14,
   "metadata": {},
   "outputs": [
    {
     "name": "stdout",
     "output_type": "stream",
     "text": [
      "+-----------------+----+\n",
      "|               c1|  c2|\n",
      "+-----------------+----+\n",
      "|     LOWER MERION|8443|\n",
      "|         ABINGTON|5977|\n",
      "|       NORRISTOWN|5890|\n",
      "|     UPPER MERION|5227|\n",
      "|       CHELTENHAM|4575|\n",
      "|        POTTSTOWN|4146|\n",
      "|   UPPER MORELAND|3434|\n",
      "| LOWER PROVIDENCE|3225|\n",
      "|         PLYMOUTH|3158|\n",
      "|          HORSHAM|3003|\n",
      "|       MONTGOMERY|2698|\n",
      "|     UPPER DUBLIN|2638|\n",
      "|       WHITEMARSH|2526|\n",
      "| UPPER PROVIDENCE|2313|\n",
      "|         LIMERICK|2272|\n",
      "|      SPRINGFIELD|2202|\n",
      "|         WHITPAIN|2135|\n",
      "|    EAST NORRITON|2038|\n",
      "|         LANSDALE|1743|\n",
      "|HATFIELD TOWNSHIP|1732|\n",
      "+-----------------+----+\n",
      "only showing top 20 rows\n",
      "\n"
     ]
    }
   ],
   "source": [
    "sql_results.show()"
   ]
  },
  {
   "cell_type": "code",
   "execution_count": 15,
   "metadata": {},
   "outputs": [],
   "source": [
    "sql_results.coalesce(1).write.format('csv').save(\"C:/Users/Sri/Desktop/911_project/DATASET/results\", header='true')"
   ]
  },
  {
   "cell_type": "markdown",
   "metadata": {},
   "source": [
    "group by category"
   ]
  },
  {
   "cell_type": "code",
   "execution_count": 16,
   "metadata": {},
   "outputs": [
    {
     "name": "stdout",
     "output_type": "stream",
     "text": [
      "+--------+-----+\n",
      "|category|   c2|\n",
      "+--------+-----+\n",
      "|     EMS|48877|\n",
      "| Traffic|35695|\n",
      "|    Fire|14920|\n",
      "+--------+-----+\n",
      "\n"
     ]
    }
   ],
   "source": [
    "sql_results = spark.sql(\"select Category as category,count(*) as c2 from data_911 group by  Category order by c2 desc\")\n",
    "sql_results.show()"
   ]
  },
  {
   "cell_type": "code",
   "execution_count": null,
   "metadata": {},
   "outputs": [],
   "source": []
  },
  {
   "cell_type": "code",
   "execution_count": null,
   "metadata": {},
   "outputs": [],
   "source": []
  },
  {
   "cell_type": "code",
   "execution_count": 17,
   "metadata": {},
   "outputs": [],
   "source": [
    "sql_results.coalesce(1).write.format('csv').save(\"C:/Users/Sri/Desktop/911_project/DATASET/results1\", header='true')"
   ]
  },
  {
   "cell_type": "code",
   "execution_count": null,
   "metadata": {},
   "outputs": [],
   "source": []
  },
  {
   "cell_type": "code",
   "execution_count": 18,
   "metadata": {},
   "outputs": [
    {
     "name": "stdout",
     "output_type": "stream",
     "text": [
      "+---+----+-------+\n",
      "| c1|  c2|     c3|\n",
      "+---+----+-------+\n",
      "|  1|6063|    EMS|\n",
      "|  7|6029|    EMS|\n",
      "|  3|5832|    EMS|\n",
      "|  5|5734|    EMS|\n",
      "|  6|5720|    EMS|\n",
      "|  4|5680|    EMS|\n",
      "|  2|5413|    EMS|\n",
      "|  1|5237|Traffic|\n",
      "|  8|4508|    EMS|\n",
      "|  6|4270|Traffic|\n",
      "|  7|4207|Traffic|\n",
      "|  2|4185|Traffic|\n",
      "|  5|4116|Traffic|\n",
      "|  4|3929|Traffic|\n",
      "| 12|3898|    EMS|\n",
      "|  3|3679|Traffic|\n",
      "|  8|3097|Traffic|\n",
      "| 12|2975|Traffic|\n",
      "|  1|1905|   Fire|\n",
      "|  7|1901|   Fire|\n",
      "+---+----+-------+\n",
      "only showing top 20 rows\n",
      "\n"
     ]
    }
   ],
   "source": [
    "sql_results = spark.sql(\"select month(timeStamp) as c1,count(*) as c2,Category as c3 from data_911 group by month(timeStamp),Category order by c2 desc\")\n",
    "sql_results.show()"
   ]
  },
  {
   "cell_type": "code",
   "execution_count": 19,
   "metadata": {},
   "outputs": [],
   "source": [
    "sql_results.coalesce(1).write.format('csv').save(\"C:/Users/Sri/Desktop/911_project/DATASET/results2\", header='true')"
   ]
  },
  {
   "cell_type": "markdown",
   "metadata": {},
   "source": [
    "select Title,month(Timestamp) as c1,count(*) as c2 from data_911 group by month(Timestamp), Title order by c2 desc;"
   ]
  },
  {
   "cell_type": "code",
   "execution_count": 20,
   "metadata": {},
   "outputs": [
    {
     "name": "stdout",
     "output_type": "stream",
     "text": [
      "+--------------------+-----+--------+-----+\n",
      "|               Title|month|Category|calls|\n",
      "+--------------------+-----+--------+-----+\n",
      "|  VEHICLE ACCIDENT -|    1| Traffic| 2926|\n",
      "|  VEHICLE ACCIDENT -|    5| Traffic| 2852|\n",
      "|  VEHICLE ACCIDENT -|    6| Traffic| 2828|\n",
      "|  VEHICLE ACCIDENT -|    7| Traffic| 2650|\n",
      "|  VEHICLE ACCIDENT -|    4| Traffic| 2574|\n",
      "|  VEHICLE ACCIDENT -|    2| Traffic| 2522|\n",
      "|  VEHICLE ACCIDENT -|    3| Traffic| 2482|\n",
      "|  VEHICLE ACCIDENT -|   12| Traffic| 2177|\n",
      "|  VEHICLE ACCIDENT -|    8| Traffic| 2055|\n",
      "|  DISABLED VEHICLE -|    1| Traffic| 1742|\n",
      "|  DISABLED VEHICLE -|    2| Traffic|  881|\n",
      "|  DISABLED VEHICLE -|    7| Traffic|  855|\n",
      "|  DISABLED VEHICLE -|    5| Traffic|  816|\n",
      "|  DISABLED VEHICLE -|    6| Traffic|  800|\n",
      "|  DISABLED VEHICLE -|    3| Traffic|  730|\n",
      "|  DISABLED VEHICLE -|    4| Traffic|  716|\n",
      "|          FIRE ALARM|    7|    Fire|  705|\n",
      "| RESPIRATORY EMER...|    1|     EMS|  688|\n",
      "| RESPIRATORY EMER...|    3|     EMS|  672|\n",
      "|         FALL VICTIM|    1|     EMS|  669|\n",
      "+--------------------+-----+--------+-----+\n",
      "only showing top 20 rows\n",
      "\n"
     ]
    }
   ],
   "source": [
    "sql_results = spark.sql(\"select Title,month(timeStamp) as month,Category,count(*) as calls from data_911 group by month(timeStamp), Title,Category order by calls desc\")\n",
    "sql_results.show()"
   ]
  },
  {
   "cell_type": "code",
   "execution_count": 21,
   "metadata": {},
   "outputs": [],
   "source": [
    "sql_results.coalesce(1).write.format('csv').save(\"C:/Users/Sri/Desktop/911_project/DATASET/results3\", header='true')"
   ]
  },
  {
   "cell_type": "markdown",
   "metadata": {},
   "source": [
    "select Title,day(Timestamp) as c1, count(*) as c2 from data_911 group by day(Timestamp),Title order by c2 desc;"
   ]
  },
  {
   "cell_type": "code",
   "execution_count": 22,
   "metadata": {},
   "outputs": [
    {
     "name": "stdout",
     "output_type": "stream",
     "text": [
      "+-------------------+---+--------+-----+\n",
      "|              Title|day|Category|calls|\n",
      "+-------------------+---+--------+-----+\n",
      "| VEHICLE ACCIDENT -| 12| Traffic|  932|\n",
      "| VEHICLE ACCIDENT -| 15| Traffic|  918|\n",
      "| VEHICLE ACCIDENT -| 23| Traffic|  894|\n",
      "| VEHICLE ACCIDENT -| 22| Traffic|  864|\n",
      "| VEHICLE ACCIDENT -| 17| Traffic|  854|\n",
      "| VEHICLE ACCIDENT -| 13| Traffic|  841|\n",
      "| VEHICLE ACCIDENT -| 18| Traffic|  839|\n",
      "| VEHICLE ACCIDENT -| 11| Traffic|  833|\n",
      "| VEHICLE ACCIDENT -| 16| Traffic|  826|\n",
      "| VEHICLE ACCIDENT -| 14| Traffic|  814|\n",
      "| VEHICLE ACCIDENT -| 21| Traffic|  781|\n",
      "| VEHICLE ACCIDENT -| 19| Traffic|  772|\n",
      "| VEHICLE ACCIDENT -| 26| Traffic|  758|\n",
      "| VEHICLE ACCIDENT -| 28| Traffic|  756|\n",
      "| VEHICLE ACCIDENT -| 20| Traffic|  750|\n",
      "| VEHICLE ACCIDENT -|  6| Traffic|  749|\n",
      "| VEHICLE ACCIDENT -| 29| Traffic|  746|\n",
      "| VEHICLE ACCIDENT -|  2| Traffic|  733|\n",
      "| VEHICLE ACCIDENT -|  4| Traffic|  721|\n",
      "| DISABLED VEHICLE -| 23| Traffic|  713|\n",
      "+-------------------+---+--------+-----+\n",
      "only showing top 20 rows\n",
      "\n"
     ]
    }
   ],
   "source": [
    "sql_results = spark.sql(\"select Title,day(Timestamp) as day,Category, count(*) as calls from data_911 group by day(Timestamp),Title,Category order by calls desc\")\n",
    "sql_results.show()\n"
   ]
  },
  {
   "cell_type": "code",
   "execution_count": 23,
   "metadata": {},
   "outputs": [],
   "source": [
    "sql_results.coalesce(1).write.format('csv').save(\"C:/Users/Sri/Desktop/911_project/DATASET/results4\", header='true')"
   ]
  },
  {
   "cell_type": "code",
   "execution_count": 24,
   "metadata": {},
   "outputs": [
    {
     "name": "stdout",
     "output_type": "stream",
     "text": [
      "+----+-----+\n",
      "|hour|calls|\n",
      "+----+-----+\n",
      "|   0| 2112|\n",
      "|   1| 1721|\n",
      "|   2| 1549|\n",
      "|   3| 1435|\n",
      "|   4| 1418|\n",
      "|   5| 1629|\n",
      "|   6| 2513|\n",
      "|   7| 3970|\n",
      "|   8| 5044|\n",
      "|   9| 5314|\n",
      "|  10| 5413|\n",
      "|  11| 5543|\n",
      "|  12| 6029|\n",
      "|  13| 5967|\n",
      "|  14| 5997|\n",
      "|  15| 6154|\n",
      "|  16| 6490|\n",
      "|  17| 6517|\n",
      "|  18| 5762|\n",
      "|  19| 4908|\n",
      "+----+-----+\n",
      "only showing top 20 rows\n",
      "\n"
     ]
    }
   ],
   "source": [
    "sql_results = spark.sql(\"select hour(Timestamp) as hour, count(*) as calls from data_911 group by hour(Timestamp) order by hour\")\n",
    "sql_results.show()"
   ]
  },
  {
   "cell_type": "code",
   "execution_count": 25,
   "metadata": {},
   "outputs": [],
   "source": [
    "sql_results.coalesce(1).write.format('csv').save(\"C:/Users/Sri/Desktop/911_project/DATASET/results5\", header='true')"
   ]
  },
  {
   "cell_type": "code",
   "execution_count": 26,
   "metadata": {},
   "outputs": [
    {
     "name": "stdout",
     "output_type": "stream",
     "text": [
      "+----+--------+-----+\n",
      "|hour|Category|calls|\n",
      "+----+--------+-----+\n",
      "|   0|    Fire|  319|\n",
      "|   0|     EMS| 1249|\n",
      "|   0| Traffic|  544|\n",
      "|   1| Traffic|  405|\n",
      "|   1|    Fire|  243|\n",
      "|   1|     EMS| 1073|\n",
      "|   2| Traffic|  323|\n",
      "|   2|    Fire|  204|\n",
      "|   2|     EMS| 1022|\n",
      "|   3|     EMS|  963|\n",
      "|   3| Traffic|  266|\n",
      "|   3|    Fire|  206|\n",
      "|   4|     EMS|  944|\n",
      "|   4|    Fire|  199|\n",
      "|   4| Traffic|  275|\n",
      "|   5| Traffic|  412|\n",
      "|   5|    Fire|  256|\n",
      "|   5|     EMS|  961|\n",
      "|   6|     EMS| 1340|\n",
      "|   6| Traffic|  841|\n",
      "+----+--------+-----+\n",
      "only showing top 20 rows\n",
      "\n"
     ]
    }
   ],
   "source": [
    "sql_results = spark.sql(\"select hour(Timestamp) as hour,Category, count(*) as calls from data_911 group by hour(Timestamp),Category order by hour\")\n",
    "sql_results.show()"
   ]
  },
  {
   "cell_type": "code",
   "execution_count": 27,
   "metadata": {},
   "outputs": [],
   "source": [
    "sql_results.coalesce(1).write.format('csv').save(\"C:/Users/Sri/Desktop/911_project/DATASET/results6\", header='true')"
   ]
  },
  {
   "cell_type": "code",
   "execution_count": null,
   "metadata": {},
   "outputs": [],
   "source": []
  },
  {
   "cell_type": "code",
   "execution_count": 28,
   "metadata": {},
   "outputs": [
    {
     "name": "stdout",
     "output_type": "stream",
     "text": [
      "+---+-----+--------+-----+\n",
      "|day|month|Category|Calls|\n",
      "+---+-----+--------+-----+\n",
      "| 23|    1| Traffic|  557|\n",
      "| 12|    1| Traffic|  324|\n",
      "| 24|    2| Traffic|  309|\n",
      "|  3|    4| Traffic|  281|\n",
      "| 25|    1| Traffic|  277|\n",
      "| 23|   12| Traffic|  277|\n",
      "| 24|    1| Traffic|  251|\n",
      "| 24|    1|     EMS|  250|\n",
      "| 22|    1| Traffic|  247|\n",
      "| 26|    1| Traffic|  244|\n",
      "| 15|    1|     EMS|  239|\n",
      "| 15|    2| Traffic|  239|\n",
      "|  2|    2|     EMS|  232|\n",
      "|  1|    4|     EMS|  231|\n",
      "| 16|    2| Traffic|  230|\n",
      "| 10|    2|     EMS|  228|\n",
      "| 21|    6|     EMS|  228|\n",
      "| 27|    5|     EMS|  226|\n",
      "| 21|   12|     EMS|  225|\n",
      "| 19|    1|     EMS|  224|\n",
      "+---+-----+--------+-----+\n",
      "only showing top 20 rows\n",
      "\n"
     ]
    }
   ],
   "source": [
    "sql_results = spark.sql(\"select day(Timestamp) as day, month(Timestamp) as month ,Category, count(*) as Calls  from data_911 group by day(Timestamp),month(Timestamp),Category order by Calls desc\")\n",
    "sql_results.show()"
   ]
  },
  {
   "cell_type": "code",
   "execution_count": null,
   "metadata": {},
   "outputs": [],
   "source": []
  },
  {
   "cell_type": "code",
   "execution_count": 29,
   "metadata": {},
   "outputs": [],
   "source": [
    "sql_results.coalesce(1).write.format('csv').save(\"C:/Users/Sri/Desktop/911_project/DATASET/results7\", header='true')"
   ]
  },
  {
   "cell_type": "markdown",
   "metadata": {},
   "source": [
    "This qury is pending for top  cities for ems incidents"
   ]
  },
  {
   "cell_type": "markdown",
   "metadata": {},
   "source": [
    "sql_results = spark.sql(\"select twp as c1,Category as category,count(*) as c2 from data_911 group by c1,category order by c2 desc LIMIT 5\")\n",
    "sql_results.show()"
   ]
  },
  {
   "cell_type": "code",
   "execution_count": null,
   "metadata": {},
   "outputs": [],
   "source": []
  },
  {
   "cell_type": "code",
   "execution_count": null,
   "metadata": {},
   "outputs": [],
   "source": []
  },
  {
   "cell_type": "code",
   "execution_count": null,
   "metadata": {},
   "outputs": [],
   "source": []
  },
  {
   "cell_type": "code",
   "execution_count": null,
   "metadata": {},
   "outputs": [],
   "source": []
  },
  {
   "cell_type": "code",
   "execution_count": null,
   "metadata": {},
   "outputs": [],
   "source": []
  },
  {
   "cell_type": "code",
   "execution_count": null,
   "metadata": {},
   "outputs": [],
   "source": []
  },
  {
   "cell_type": "code",
   "execution_count": null,
   "metadata": {},
   "outputs": [],
   "source": []
  }
 ],
 "metadata": {
  "kernelspec": {
   "display_name": "Python 3",
   "language": "python",
   "name": "python3"
  },
  "language_info": {
   "codemirror_mode": {
    "name": "ipython",
    "version": 3
   },
   "file_extension": ".py",
   "mimetype": "text/x-python",
   "name": "python",
   "nbconvert_exporter": "python",
   "pygments_lexer": "ipython3",
   "version": "3.7.0"
  }
 },
 "nbformat": 4,
 "nbformat_minor": 2
}
